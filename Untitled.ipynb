{
 "cells": [
  {
   "cell_type": "code",
   "execution_count": 1,
   "id": "dc0ab08c",
   "metadata": {},
   "outputs": [
    {
     "name": "stderr",
     "output_type": "stream",
     "text": [
      "2023-05-27 12:16:38.568531: I tensorflow/core/platform/cpu_feature_guard.cc:193] This TensorFlow binary is optimized with oneAPI Deep Neural Network Library (oneDNN) to use the following CPU instructions in performance-critical operations:  AVX2 FMA\n",
      "To enable them in other operations, rebuild TensorFlow with the appropriate compiler flags.\n",
      "2023-05-27 12:16:38.912987: W tensorflow/compiler/xla/stream_executor/platform/default/dso_loader.cc:64] Could not load dynamic library 'libcudart.so.11.0'; dlerror: libcudart.so.11.0: cannot open shared object file: No such file or directory; LD_LIBRARY_PATH: /home/ryan/venv/cab420/lib/python3.10/site-packages/cv2/../../lib64:\n",
      "2023-05-27 12:16:38.913018: I tensorflow/compiler/xla/stream_executor/cuda/cudart_stub.cc:29] Ignore above cudart dlerror if you do not have a GPU set up on your machine.\n",
      "2023-05-27 12:16:39.842732: W tensorflow/compiler/xla/stream_executor/platform/default/dso_loader.cc:64] Could not load dynamic library 'libnvinfer.so.7'; dlerror: libnvinfer.so.7: cannot open shared object file: No such file or directory; LD_LIBRARY_PATH: /home/ryan/venv/cab420/lib/python3.10/site-packages/cv2/../../lib64:\n",
      "2023-05-27 12:16:39.842797: W tensorflow/compiler/xla/stream_executor/platform/default/dso_loader.cc:64] Could not load dynamic library 'libnvinfer_plugin.so.7'; dlerror: libnvinfer_plugin.so.7: cannot open shared object file: No such file or directory; LD_LIBRARY_PATH: /home/ryan/venv/cab420/lib/python3.10/site-packages/cv2/../../lib64:\n",
      "2023-05-27 12:16:39.842803: W tensorflow/compiler/tf2tensorrt/utils/py_utils.cc:38] TF-TRT Warning: Cannot dlopen some TensorRT libraries. If you would like to use Nvidia GPU with TensorRT, please make sure the missing libraries mentioned above are installed properly.\n"
     ]
    }
   ],
   "source": [
    "import matplotlib.pyplot as plt     # for plotting\n",
    "import numpy as np                  # for reshaping, array manipulation\n",
    "import cv2                          # for image loading and colour conversion\n",
    "import tensorflow as tf             # for bulk image resize\n",
    "import os\n",
    "import glob\n",
    "import random\n",
    "from sklearn import decomposition\n",
    "from sklearn import discriminant_analysis\n",
    "from tensorflow.keras import layers\n",
    "from tensorflow.keras import backend as K\n",
    "from tensorflow import keras\n",
    "from tensorflow.keras import layers\n",
    "import tensorflow as tf\n",
    "from tensorflow.keras.applications import VGG19\n",
    "import time\n",
    "from math import *"
   ]
  },
  {
   "cell_type": "code",
   "execution_count": 14,
   "id": "90524781",
   "metadata": {},
   "outputs": [
    {
     "name": "stdout",
     "output_type": "stream",
     "text": [
      "x\n",
      "0\n"
     ]
    }
   ],
   "source": [
    "def load_directory(base_path):\n",
    "\n",
    "    # find all images in the directory\n",
    "    files = glob.glob(os.path.join(base_path, '*.jpg'))\n",
    "    x = []\n",
    "    y = []\n",
    "    \n",
    "    # loop through the images, loading them and extracting the subject ID\n",
    "    print(\"x\")\n",
    "    #print( os.listdir(base_path))\n",
    "    for folder in folders:\n",
    "        for f in files:\n",
    "            x.append(cv2.cvtColor(cv2.imread(f), cv2.COLOR_BGR2RGB) / 255.0)\n",
    "            y.append(get_subject_id_from_filename(os.path.basename(f)))\n",
    "            print(\"f\")\n",
    "        \n",
    "    return np.array(x), np.array(y)\n",
    "\n",
    "def load_data(base_path):\n",
    "    \n",
    "    # load training data\n",
    "    #train_X, train_Y = load_directory(os.path.join(base_path, 'Training'))\n",
    "\n",
    "    # load gallery data from the test set\n",
    "    #gallery_X, gallery_Y = load_directory(os.path.join(base_path, 'Testing', 'Gallery'))\n",
    "\n",
    "    # load probe data from the test set\n",
    "    #probe_X, probe_Y = load_directory(os.path.join(base_path, 'Testing', 'Probe'))\n",
    "    objects_x,objects_y = load_directory(base_path)\n",
    "    \n",
    "    #return train_X, train_Y, gallery_X, gallery_Y, probe_X, probe_Y\n",
    "    return objects_x,objects_y\n",
    "\n",
    "\n",
    "x, y = load_data(\"256_ObjectCategories/\")\n",
    "print(len(y))"
   ]
  },
  {
   "cell_type": "code",
   "execution_count": null,
   "id": "7e5e8ff3",
   "metadata": {},
   "outputs": [],
   "source": []
  }
 ],
 "metadata": {
  "kernelspec": {
   "display_name": "Python 3 (ipykernel)",
   "language": "python",
   "name": "python3"
  },
  "language_info": {
   "codemirror_mode": {
    "name": "ipython",
    "version": 3
   },
   "file_extension": ".py",
   "mimetype": "text/x-python",
   "name": "python",
   "nbconvert_exporter": "python",
   "pygments_lexer": "ipython3",
   "version": "3.10.6"
  }
 },
 "nbformat": 4,
 "nbformat_minor": 5
}
